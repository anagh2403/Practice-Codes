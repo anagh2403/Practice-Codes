{
  "nbformat": 4,
  "nbformat_minor": 0,
  "metadata": {
    "colab": {
      "provenance": []
    },
    "kernelspec": {
      "name": "python3",
      "display_name": "Python 3"
    },
    "language_info": {
      "name": "python"
    }
  },
  "cells": [
    {
      "cell_type": "code",
      "execution_count": null,
      "metadata": {
        "id": "K3fAqVXDzljl"
      },
      "outputs": [],
      "source": [
        "import matplotlib.pyplot as plt\n",
        "\n",
        "# Sample dataset for the scatter plot\n",
        "x = [1, 2, 3, 4, 5]\n",
        "y = [2, 3, 7, 8, 11]\n",
        "\n",
        "# Create a scatter plot using matplotlib\n",
        "plt.scatter(x, y)\n",
        "\n",
        "# Set the labels and title\n",
        "plt.xlabel('X')\n",
        "plt.ylabel('Y')\n",
        "plt.title('Scatter Plot')\n",
        "\n",
        "# Display the scatter plot\n",
        "plt.show()"
      ]
    }
  ]
}