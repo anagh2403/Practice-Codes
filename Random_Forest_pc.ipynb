{
  "nbformat": 4,
  "nbformat_minor": 0,
  "metadata": {
    "colab": {
      "provenance": []
    },
    "kernelspec": {
      "name": "python3",
      "display_name": "Python 3"
    },
    "language_info": {
      "name": "python"
    }
  },
  "cells": [
    {
      "cell_type": "code",
      "execution_count": 5,
      "metadata": {
        "colab": {
          "base_uri": "https://localhost:8080/"
        },
        "id": "QZiFQCssmZH9",
        "outputId": "d7cca05d-c788-421d-e391-f5640242373e"
      },
      "outputs": [
        {
          "output_type": "stream",
          "name": "stdout",
          "text": [
            "random forest accuracy 0.9\n"
          ]
        }
      ],
      "source": [
        "import numpy as np\n",
        "\n",
        "from sklearn.ensemble import RandomForestClassifier\n",
        "from sklearn.datasets import make_classification\n",
        "from sklearn.model_selection import train_test_split\n",
        "from sklearn.metrics import accuracy_score\n",
        "\n",
        "X, y =make_classification(n_samples=100, n_features=4, random_state=42)\n",
        "\n",
        "X_train,X_test, y_train,y_test= train_test_split(X,y,test_size=0.2,random_state=42)\n",
        "\n",
        "random_forest=RandomForestClassifier(n_estimators=100)\n",
        "random_forest.fit(X_train,y_train)\n",
        "random_forest_pred= random_forest.predict(X_test)\n",
        "\n",
        "random_forest_score= accuracy_score(y_test, random_forest_pred)\n",
        "\n",
        "print(\"random forest accuracy\", random_forest_score)"
      ]
    }
  ]
}