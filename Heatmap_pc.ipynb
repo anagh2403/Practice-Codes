{
  "nbformat": 4,
  "nbformat_minor": 0,
  "metadata": {
    "colab": {
      "provenance": []
    },
    "kernelspec": {
      "name": "python3",
      "display_name": "Python 3"
    },
    "language_info": {
      "name": "python"
    }
  },
  "cells": [
    {
      "cell_type": "code",
      "execution_count": null,
      "metadata": {
        "id": "ZqcV3CxoyfMB"
      },
      "outputs": [],
      "source": [
        "import seaborn as sns\n",
        "import matplotlib.pyplot as plt\n",
        "\n",
        "# Sample dataset for the heatmap\n",
        "data = [[0.5, 0.2, 0.9],\n",
        "        [0.1, 0.6, 0.4],\n",
        "        [0.3, 0.8, 0.7]]\n",
        "\n",
        "# Create a heatmap using seaborn\n",
        "sns.heatmap(data)\n",
        "\n",
        "# Display the heatmap\n",
        "plt.show()"
      ]
    }
  ]
}