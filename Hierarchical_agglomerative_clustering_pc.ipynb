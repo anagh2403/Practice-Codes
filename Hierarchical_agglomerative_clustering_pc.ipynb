{
  "nbformat": 4,
  "nbformat_minor": 0,
  "metadata": {
    "colab": {
      "provenance": []
    },
    "kernelspec": {
      "name": "python3",
      "display_name": "Python 3"
    },
    "language_info": {
      "name": "python"
    }
  },
  "cells": [
    {
      "cell_type": "code",
      "execution_count": null,
      "metadata": {
        "id": "Dt9qn50RzkUV"
      },
      "outputs": [],
      "source": [
        "from sklearn.cluster import AgglomerativeClustering\n",
        "import numpy as np\n",
        "\n",
        "# Sample dataset for hierarchical agglomerative clustering\n",
        "data = np.array([[1, 2], [3, 4], [5, 6], [7, 8], [9, 10], [11,12]])\n",
        "\n",
        "# Perform hierarchical agglomerative clustering\n",
        "cluster = AgglomerativeClustering()\n",
        "cluster_labels = cluster.fit_predict(data)\n",
        "\n",
        "# Print the cluster labels\n",
        "print(cluster_labels)"
      ]
    }
  ]
}