{
  "nbformat": 4,
  "nbformat_minor": 0,
  "metadata": {
    "colab": {
      "provenance": []
    },
    "kernelspec": {
      "name": "python3",
      "display_name": "Python 3"
    },
    "language_info": {
      "name": "python"
    }
  },
  "cells": [
    {
      "cell_type": "code",
      "execution_count": null,
      "metadata": {
        "id": "hGFKFEmDzmpo"
      },
      "outputs": [],
      "source": [
        "import matplotlib.pyplot as plt\n",
        "\n",
        "# Sample dataset for the box plot\n",
        "data = [1, 1, 2, 3, 3, 3, 4, 4, 5, 5, 6]\n",
        "\n",
        "# Create a box plot using matplotlib\n",
        "plt.boxplot(data)\n",
        "\n",
        "# Set the labels and title\n",
        "plt.xlabel('Data')\n",
        "plt.ylabel('Values')\n",
        "plt.title('Box Plot')\n",
        "\n",
        "# Display the box plot\n",
        "plt.show()"
      ]
    }
  ]
}