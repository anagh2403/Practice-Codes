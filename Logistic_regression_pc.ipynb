{
  "nbformat": 4,
  "nbformat_minor": 0,
  "metadata": {
    "colab": {
      "provenance": []
    },
    "kernelspec": {
      "name": "python3",
      "display_name": "Python 3"
    },
    "language_info": {
      "name": "python"
    }
  },
  "cells": [
    {
      "cell_type": "code",
      "execution_count": null,
      "metadata": {
        "id": "gxJkXTS-ygUp"
      },
      "outputs": [],
      "source": [
        "from sklearn.linear_model import LinearRegression, LogisticRegression \n",
        "from sklearn.datasets import make_classification\n",
        "from sklearn.model_selection import train_test_split \n",
        "from sklearn.metrics import accuracy_score \n",
        "  \n",
        "# Split the data into training and testing sets \n",
        "X_train, X_test, y_train, y_test = train_test_split(X, y, test_size=0.2, random_state=42) \n",
        "\n",
        "#creating \n",
        "logistic_regression = LogisticRegression() \n",
        "\n",
        "#training\n",
        "logistic_regression.fit(X_train, y_train) \n",
        "\n",
        "#prediction\n",
        "logistic_regression_pred = logistic_regression.predict(X_test) \n",
        "\n",
        "#Evaluation\n",
        "logistic_regression_score = accuracy_score(y_test, logistic_regression_pred) \n",
        "print(\"Logistic Regression Accuracy:\", logistic_regression_score)"
      ]
    }
  ]
}