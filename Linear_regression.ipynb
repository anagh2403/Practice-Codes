{
  "nbformat": 4,
  "nbformat_minor": 0,
  "metadata": {
    "colab": {
      "provenance": []
    },
    "kernelspec": {
      "name": "python3",
      "display_name": "Python 3"
    },
    "language_info": {
      "name": "python"
    }
  },
  "cells": [
    {
      "cell_type": "code",
      "execution_count": null,
      "metadata": {
        "id": "3UI8MbQ-_sNm"
      },
      "outputs": [],
      "source": [
        "\n",
        "import numpy as np \n",
        "from sklearn.linear_model import LinearRegression, LogisticRegression  \n",
        "from sklearn.metrics import accuracy_score \n",
        "    \n",
        "# Split the data into training and testing sets \n",
        "X_train, X_test, y_train, y_test = train_test_split(X, y, test_size=0.2, random_state=42) \n",
        "  \n",
        "# Linear Regression \n",
        "linear_regression = LinearRegression() \n",
        "linear_regression.fit(X_train, y_train) \n",
        "linear_regression_pred = linear_regression.predict(X_test) \n",
        "linear_regression_score = accuracy_score(y_test, np.round(linear_regression_pred)) \n",
        "print(\"Linear Regression Accuracy:\", linear_regression_score) "
      ]
    }
  ]
}