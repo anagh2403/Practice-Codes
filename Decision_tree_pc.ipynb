{
  "nbformat": 4,
  "nbformat_minor": 0,
  "metadata": {
    "colab": {
      "provenance": []
    },
    "kernelspec": {
      "name": "python3",
      "display_name": "Python 3"
    },
    "language_info": {
      "name": "python"
    }
  },
  "cells": [
    {
      "cell_type": "code",
      "execution_count": 6,
      "metadata": {
        "colab": {
          "base_uri": "https://localhost:8080/"
        },
        "id": "QdbCltdEsZGG",
        "outputId": "889c097d-7dfa-4ccd-a36b-e703f88a552e"
      },
      "outputs": [
        {
          "output_type": "stream",
          "name": "stdout",
          "text": [
            "accuracy 0.9555555555555556\n"
          ]
        }
      ],
      "source": [
        "from sklearn import datasets\n",
        "from sklearn import metrics\n",
        "from sklearn.model_selection import train_test_split\n",
        "from sklearn.tree import DecisionTreeClassifier\n",
        "\n",
        "iris=datasets.load_iris()\n",
        "X= iris.data\n",
        "y=iris.target\n",
        "\n",
        "X_train,X_test,y_train,y_test= train_test_split(X,y,test_size=0.3,random_state=1)\n",
        "\n",
        "classifier= DecisionTreeClassifier()\n",
        "\n",
        "classifier.fit(X_train, y_train)\n",
        "\n",
        "y_pred= classifier.predict(X_test)\n",
        "\n",
        "accuracy= metrics.accuracy_score(y_test,y_pred)\n",
        "\n",
        "print(\"accuracy\", accuracy)\n"
      ]
    }
  ]
}