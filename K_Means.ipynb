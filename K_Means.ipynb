{
  "nbformat": 4,
  "nbformat_minor": 0,
  "metadata": {
    "colab": {
      "provenance": []
    },
    "kernelspec": {
      "name": "python3",
      "display_name": "Python 3"
    },
    "language_info": {
      "name": "python"
    }
  },
  "cells": [
    {
      "cell_type": "code",
      "execution_count": null,
      "metadata": {
        "id": "pIEJVf2Bk7z2"
      },
      "outputs": [],
      "source": [
        "# Importing the required libraries\n",
        "from sklearn import datasets\n",
        "from sklearn.cluster import KMeans\n",
        "\n",
        "# Loading the dataset\n",
        "iris = datasets.load_iris()\n",
        "X = iris.data\n",
        "\n",
        "# Creating the K-means clustering model\n",
        "kmeans = KMeans(n_clusters=3, random_state=1)\n",
        "\n",
        "# Fitting the model to the data\n",
        "kmeans.fit(X)\n",
        "\n",
        "# Getting the cluster labels\n",
        "labels = kmeans.labels_\n",
        "\n",
        "# Getting the cluster centers\n",
        "centers = kmeans.cluster_centers_\n",
        "\n",
        "# Printing the cluster labels and centers\n",
        "print(\"Cluster Labels:\", labels)\n",
        "print(\"Cluster Centers:\", centers)\n"
      ]
    }
  ]
}