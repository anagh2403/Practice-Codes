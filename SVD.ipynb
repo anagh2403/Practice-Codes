{
  "nbformat": 4,
  "nbformat_minor": 0,
  "metadata": {
    "colab": {
      "provenance": []
    },
    "kernelspec": {
      "name": "python3",
      "display_name": "Python 3"
    },
    "language_info": {
      "name": "python"
    }
  },
  "cells": [
    {
      "cell_type": "code",
      "execution_count": null,
      "metadata": {
        "id": "UXovv43j_pgS"
      },
      "outputs": [],
      "source": [
        "import numpy as np \n",
        "from sklearn.decomposition import TruncatedSVD\n",
        " \n",
        "# Example matrix  \n",
        "matrix = np.array([[1, 2, 3], \n",
        "   [4, 5, 6],  \n",
        "   [7, 8, 9],  \n",
        "   [10, 11, 12]]) \n",
        " \n",
        "svd = TruncatedSVD(n_components=2)  \n",
        "svd_result = svd.fit_transform(matrix)  \n",
        " \n",
        "print(\"SVD Result:\")  \n",
        "print(svd_result)  \n",
        " \n"
      ]
    }
  ]
}