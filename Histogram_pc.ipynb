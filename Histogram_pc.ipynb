{
  "nbformat": 4,
  "nbformat_minor": 0,
  "metadata": {
    "colab": {
      "provenance": []
    },
    "kernelspec": {
      "name": "python3",
      "display_name": "Python 3"
    },
    "language_info": {
      "name": "python"
    }
  },
  "cells": [
    {
      "cell_type": "code",
      "execution_count": null,
      "metadata": {
        "id": "X6QavgkdyeZr"
      },
      "outputs": [],
      "source": [
        "import matplotlib.pyplot as plt\n",
        "\n",
        "# Sample dataset for the histogram\n",
        "data = [1, 1, 2, 3, 3, 3, 4, 4, 5, 5, 6]\n",
        "\n",
        "# Create a histogram using matplotlib\n",
        "plt.hist(data)\n",
        "\n",
        "# Set the labels and title\n",
        "plt.xlabel('Values')\n",
        "plt.ylabel('Frequency')\n",
        "plt.title('Histogram')\n",
        "\n",
        "# Display the histogram\n",
        "plt.show()"
      ]
    }
  ]
}